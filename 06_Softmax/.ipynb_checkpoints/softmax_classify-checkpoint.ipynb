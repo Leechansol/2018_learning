{
 "cells": [
  {
   "cell_type": "markdown",
   "metadata": {},
   "source": [
    "* Sigmoid\n",
    " * 0~1\n",
    " * argmax -> max = 1"
   ]
  },
  {
   "cell_type": "code",
   "execution_count": 2,
   "metadata": {},
   "outputs": [
    {
     "name": "stdout",
     "output_type": "stream",
     "text": [
      "0 2.5190191\n",
      "200 0.64940304\n",
      "400 0.5320005\n",
      "600 0.44949287\n",
      "800 0.37788495\n",
      "1000 0.30788755\n",
      "1200 0.24303651\n",
      "1400 0.21941239\n",
      "1600 0.20043297\n",
      "1800 0.18433757\n",
      "2000 0.17052951\n",
      "--------------\n",
      "[[3.8056780e-02 9.6193302e-01 1.0239971e-05]] [1]\n",
      "--------------\n",
      "[[0.66531384 0.30699122 0.02769498]] [0]\n",
      "--------------\n",
      "[[2.6781647e-08 4.4821558e-04 9.9955171e-01]] [2]\n",
      "--------------\n",
      "[[3.8056780e-02 9.6193302e-01 1.0239971e-05]\n",
      " [6.6531384e-01 3.0699125e-01 2.7694978e-02]\n",
      " [2.6781649e-08 4.4821558e-04 9.9955171e-01]] [1 0 2]\n"
     ]
    }
   ],
   "source": [
    "# softmax function - 여러개 예측\n",
    "import tensorflow as tf\n",
    "tf.set_random_seed(777)  # for reproducibility\n",
    "\n",
    "x_data = [[1, 2, 1, 1],[2, 1, 3, 2],[3, 1, 3, 4],[4, 1, 5, 5],\n",
    "          [1, 7, 5, 5],[1, 2, 5, 6],[1, 6, 6, 6],[1, 7, 7, 7]]\n",
    "\n",
    "y_data = [[0, 0, 1],[0, 0, 1],[0, 0, 1],\n",
    "          [0, 1, 0],[0, 1, 0],[0, 1, 0],\n",
    "          [1, 0, 0],[1, 0, 0]]\n",
    "\n",
    "X = tf.placeholder(\"float\", [None, 4])\n",
    "Y = tf.placeholder(\"float\", [None, 3])\n",
    "# 클래스 몇갠지\n",
    "nb_classes = 3\n",
    "\n",
    "# [X값 들어오는거 4개, Y값 나가는거 3개]\n",
    "W = tf.Variable(tf.random_normal([4, nb_classes]), name='weight')\n",
    "b = tf.Variable(tf.random_normal([nb_classes]), name='bias')\n",
    "\n",
    "# tf.nn.softmax computes softmax activations\n",
    "# softmax = exp(logits) / reduce_sum(exp(logits), dim)\n",
    "hypothesis = tf.nn.softmax(tf.matmul(X, W) + b)\n",
    "\n",
    "# Cross entropy cost/loss\n",
    "# ylog(h)의 평균내고 최소화(경사면타기)\n",
    "cost = tf.reduce_mean(-tf.reduce_sum(Y * tf.log(hypothesis), axis=1))\n",
    "optimizer = tf.train.GradientDescentOptimizer(learning_rate=0.1).minimize(cost)\n",
    "\n",
    "# Launch graph\n",
    "with tf.Session() as sess:\n",
    "    sess.run(tf.global_variables_initializer())\n",
    "\n",
    "    for step in range(2001):\n",
    "        sess.run(optimizer, feed_dict={X: x_data, Y: y_data})\n",
    "        if step % 200 == 0:\n",
    "            print(step, sess.run(cost, feed_dict={X: x_data, Y: y_data}))\n",
    "\n",
    "    print('--------------')\n",
    "\n",
    "    # Testing & One-hot encoding\n",
    "    a = sess.run(hypothesis, feed_dict={X: [[1, 11, 7, 9]]})\n",
    "    # argmax : select max\n",
    "    print(a, sess.run(tf.argmax(a, 1)))\n",
    "\n",
    "    print('--------------')\n",
    "\n",
    "    b = sess.run(hypothesis, feed_dict={X: [[1, 3, 4, 3]]})\n",
    "    print(b, sess.run(tf.argmax(b, 1)))\n",
    "\n",
    "    print('--------------')\n",
    "\n",
    "    c = sess.run(hypothesis, feed_dict={X: [[1, 1, 0, 1]]})\n",
    "    print(c, sess.run(tf.argmax(c, 1)))\n",
    "\n",
    "    print('--------------')\n",
    "\n",
    "    all = sess.run(hypothesis, feed_dict={\n",
    "                   X: [[1, 11, 7, 9], [1, 3, 4, 3], [1, 1, 0, 1]]})\n",
    "    print(all, sess.run(tf.argmax(all, 1)))"
   ]
  },
  {
   "cell_type": "code",
   "execution_count": null,
   "metadata": {},
   "outputs": [],
   "source": []
  }
 ],
 "metadata": {
  "kernelspec": {
   "display_name": "Python 3",
   "language": "python",
   "name": "python3"
  },
  "language_info": {
   "codemirror_mode": {
    "name": "ipython",
    "version": 3
   },
   "file_extension": ".py",
   "mimetype": "text/x-python",
   "name": "python",
   "nbconvert_exporter": "python",
   "pygments_lexer": "ipython3",
   "version": "3.5.6"
  }
 },
 "nbformat": 4,
 "nbformat_minor": 2
}
