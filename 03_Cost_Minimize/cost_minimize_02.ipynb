{
 "cells": [
  {
   "cell_type": "code",
   "execution_count": 4,
   "metadata": {},
   "outputs": [
    {
     "name": "stdout",
     "output_type": "stream",
     "text": [
      "0 0.21284427 [1.2135638]\n",
      "1 0.06054235 [1.1139007]\n",
      "2 0.017220924 [1.060747]\n",
      "3 0.004898415 [1.0323985]\n",
      "4 0.0013933218 [1.0172791]\n",
      "5 0.00039632677 [1.0092156]\n",
      "6 0.000112733665 [1.004915]\n",
      "7 3.2066117e-05 [1.0026213]\n",
      "8 9.119793e-06 [1.001398]\n",
      "9 2.5938373e-06 [1.0007455]\n",
      "10 7.3750135e-07 [1.0003976]\n",
      "11 2.0983322e-07 [1.0002121]\n",
      "12 5.975242e-08 [1.0001131]\n",
      "13 1.6979621e-08 [1.0000603]\n",
      "14 4.8345328e-09 [1.0000322]\n",
      "15 1.375156e-09 [1.0000172]\n",
      "16 3.953886e-10 [1.0000092]\n",
      "17 1.12649445e-10 [1.0000049]\n",
      "18 3.2097585e-11 [1.0000026]\n",
      "19 9.549694e-12 [1.0000014]\n",
      "20 2.3874236e-12 [1.0000007]\n"
     ]
    }
   ],
   "source": [
    "import tensorflow as tf\n",
    "\n",
    "x_data = [1,2,3]\n",
    "y_data = [1,2,3]\n",
    "\n",
    "# w= tf.Variable(5.0) -> 랜덤 아니고 값 직접 주기\n",
    "w = tf.Variable(tf.random_normal([1]), name = 'weight')\n",
    "x = tf.placeholder(tf.float32)\n",
    "y = tf.placeholder(tf.float32)\n",
    "\n",
    "hypothesis = x * w\n",
    "\n",
    "# Cost/Loss function\n",
    "cost = tf.reduce_mean(tf.square(hypothesis - y))\n",
    "\n",
    "# 수동으로 minimize\n",
    "# Minimize: Gradient Descent using drivative: w -= learning_rate * derivative\n",
    "# 알파 = learning_rate\n",
    "learning_rate = 0.1\n",
    "gradient = tf.reduce_mean((w*x-y)*x)\n",
    "descent = w-learning_rate * gradient\n",
    "update = w.assign(descent)\n",
    "\n",
    "# 위 코드와 동일\n",
    "# optimizer = tf.train.GradientDescentOptimizer(learning_rate = 0.1)\n",
    "# train = optimizer.minimize(cost)\n",
    "\n",
    "sess = tf.Session()\n",
    "# 변수 초기화\n",
    "sess.run(tf.global_variables_initializer())\n",
    "for step in range(21):\n",
    "    # 업데이트 시키고 값 넘겨줌\n",
    "    sess.run(update, feed_dict = {x:x_data, y:y_data})\n",
    "    print(step, sess.run(cost, feed_dict={x:x_data, y:y_data}), sess.run(w))"
   ]
  },
  {
   "cell_type": "code",
   "execution_count": null,
   "metadata": {},
   "outputs": [],
   "source": []
  }
 ],
 "metadata": {
  "kernelspec": {
   "display_name": "Python 3",
   "language": "python",
   "name": "python3"
  },
  "language_info": {
   "codemirror_mode": {
    "name": "ipython",
    "version": 3
   },
   "file_extension": ".py",
   "mimetype": "text/x-python",
   "name": "python",
   "nbconvert_exporter": "python",
   "pygments_lexer": "ipython3",
   "version": "3.5.6"
  }
 },
 "nbformat": 4,
 "nbformat_minor": 2
}
