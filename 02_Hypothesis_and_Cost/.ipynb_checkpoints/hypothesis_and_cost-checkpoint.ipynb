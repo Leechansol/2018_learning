{
 "cells": [
  {
   "cell_type": "markdown",
   "metadata": {},
   "source": [
    "* hypothesis : 가설\n",
    "* Linear regression -> Cost(Loss) function\n",
    " * 가설과 실제 데이터가 얼마나 다른가 계산\n",
    " * H(x) = Wx + b\n",
    " * cost function : (예측값-실제값)^2의 평균\n",
    "- 순서\n",
    " 1. graph build\n",
    " 2. session으로 실행\n",
    " 3. 결과값"
   ]
  },
  {
   "cell_type": "code",
   "execution_count": 1,
   "metadata": {},
   "outputs": [],
   "source": [
    "#H(x) = Wx + b\n",
    "import tensorflow as tf\n",
    "\n",
    "#X, Y data\n",
    "x_train = [1,2,3]\n",
    "y_train = [1,2,3]\n",
    "\n",
    "#tensorflow가 사용하는 variable\n",
    "#tensorflow가 자체적으로 변경시키는 값 or trainable\n",
    "#rank = 1\n",
    "w = tf.Variable(tf.random_normal([1]), name = 'weight')\n",
    "b = tf.Variable(tf.random_normal([1]), name = 'bias')\n",
    "\n",
    "#hypothesis node\n",
    "hypothesis = x_train * w + b"
   ]
  },
  {
   "cell_type": "code",
   "execution_count": 2,
   "metadata": {},
   "outputs": [],
   "source": [
    "#Cost function\n",
    "#square\n",
    "#reduce_meean : 평균\n",
    "cost = tf.reduce_mean(tf.square(hypothesis - y_train))\n",
    "\n",
    "#Minimize\n",
    "#GradientDescent\n",
    "optimizer = tf.train.GradientDescentOptimizer(learning_rate=0.01)\n",
    "#train을 하나의 노드로 생각\n",
    "train = optimizer.minimize(cost)\n",
    "\n",
    "#--여기까지 그래프"
   ]
  },
  {
   "cell_type": "code",
   "execution_count": 4,
   "metadata": {},
   "outputs": [
    {
     "name": "stdout",
     "output_type": "stream",
     "text": [
      "0 2.6793854 [1.0815339] [-1.7985964]\n",
      "100 0.20942496 [1.5315038] [-1.2082456]\n",
      "200 0.12941186 [1.417814] [-0.9497896]\n",
      "300 0.07996868 [1.3284401] [-0.74662113]\n",
      "400 0.04941581 [1.2581838] [-0.5869125]\n",
      "500 0.030535987 [1.202956] [-0.4613667]\n",
      "600 0.018869378 [1.1595418] [-0.3626762]\n",
      "700 0.0116601335 [1.1254145] [-0.28509647]\n",
      "800 0.007205252 [1.0985872] [-0.22411181]\n",
      "900 0.004452402 [1.0774984] [-0.17617223]\n",
      "1000 0.0027513215 [1.0609208] [-0.13848743]\n",
      "1100 0.0017001461 [1.0478894] [-0.10886364]\n",
      "1200 0.0010505847 [1.0376453] [-0.08557675]\n",
      "1300 0.00064919883 [1.0295926] [-0.06727107]\n",
      "1400 0.00040116356 [1.0232626] [-0.05288113]\n",
      "1500 0.00024789546 [1.0182865] [-0.0415696]\n",
      "1600 0.00015318333 [1.0143747] [-0.03267736]\n",
      "1700 9.4657174e-05 [1.0112998] [-0.02568722]\n",
      "1800 5.849222e-05 [1.0088826] [-0.02019241]\n",
      "1900 3.6143992e-05 [1.0069826] [-0.01587308]\n",
      "2000 2.2335575e-05 [1.0054891] [-0.01247782]\n"
     ]
    }
   ],
   "source": [
    "#session\n",
    "sess = tf.Session()\n",
    "#Initializes global variables in the graph\n",
    "sess.run(tf.global_variables_initializer())\n",
    "\n",
    "#Fit the Line\n",
    "for step in range(2001):\n",
    "    #노드 실행\n",
    "    sess.run(train)\n",
    "    #2000번 다 실행하기 좀 그러니까 100번마다 출력\n",
    "    if step % 100 == 0:\n",
    "        print(step, sess.run(cost), sess.run(w), sess.run(b))"
   ]
  },
  {
   "cell_type": "markdown",
   "metadata": {},
   "source": [
    "## Placeholder"
   ]
  },
  {
   "cell_type": "code",
   "execution_count": 8,
   "metadata": {},
   "outputs": [
    {
     "name": "stdout",
     "output_type": "stream",
     "text": [
      "0 10.634501 [0.35045606] [-0.45717323]\n",
      "100 0.10108618 [1.3683716] [0.26258114]\n",
      "200 0.062465 [1.2895803] [0.44171557]\n",
      "300 0.03859959 [1.2276365] [0.5825287]\n",
      "400 0.023852192 [1.1789432] [0.6932202]\n",
      "500 0.014739192 [1.1406655] [0.780234]\n",
      "600 0.0091079315 [1.110576] [0.8486347]\n",
      "700 0.0056281495 [1.0869226] [0.9024041]\n",
      "800 0.003477852 [1.0683292] [0.9446715]\n",
      "900 0.0021491053 [1.053713] [0.9778976]\n",
      "1000 0.0013280144 [1.0422233] [1.0040163]\n",
      "1100 0.00082064484 [1.0331916] [1.0245476]\n",
      "1200 0.0005071157 [1.0260918] [1.0406873]\n",
      "1300 0.00031336627 [1.0205104] [1.0533746]\n",
      "1400 0.00019363283 [1.0161228] [1.063349]\n",
      "1500 0.00011965409 [1.012674] [1.071189]\n",
      "1600 7.394037e-05 [1.0099632] [1.0773517]\n",
      "1700 4.5687193e-05 [1.0078317] [1.0821967]\n",
      "1800 2.8233704e-05 [1.0061564] [1.0860049]\n",
      "1900 1.7446595e-05 [1.0048395] [1.0889984]\n",
      "2000 1.0781961e-05 [1.0038046] [1.0913514]\n"
     ]
    }
   ],
   "source": [
    "#X = tf.placeholder(tf.float32, shape = [None])\n",
    "X = tf.placeholder(tf.float32)\n",
    "Y = tf.placeholder(tf.float32)\n",
    "w = tf.Variable(tf.random_normal([1]), name = 'weight')\n",
    "b = tf.Variable(tf.random_normal([1]), name = 'bias')\n",
    "\n",
    "hypothesis = X * w + b\n",
    "\n",
    "cost = tf.reduce_mean(tf.square(hypothesis - Y))\n",
    "\n",
    "optimizer = tf.train.GradientDescentOptimizer(learning_rate=0.01)\n",
    "train = optimizer.minimize(cost)\n",
    "\n",
    "sess = tf.Session()\n",
    "sess.run(tf.global_variables_initializer())\n",
    "\n",
    "for step in range(2001):\n",
    "    cost_val, w_val, b_val, _= sess.run([cost, w, b, train], feed_dict={X:[1, 2, 3], Y:[2.1, 3.1, 4.1]})\n",
    "    if step % 100 == 0:\n",
    "        print(step, cost_val, w_val, b_val)"
   ]
  },
  {
   "cell_type": "code",
   "execution_count": 9,
   "metadata": {},
   "outputs": [
    {
     "name": "stdout",
     "output_type": "stream",
     "text": [
      "[2.095156]\n",
      "[3.0989604]\n",
      "[2.095156  6.1103745]\n"
     ]
    }
   ],
   "source": [
    "print(sess.run(hypothesis, feed_dict={X:[1]}))\n",
    "print(sess.run(hypothesis, feed_dict={X:[2]}))\n",
    "print(sess.run(hypothesis, feed_dict={X:[1, 5]}))"
   ]
  },
  {
   "cell_type": "code",
   "execution_count": null,
   "metadata": {},
   "outputs": [],
   "source": []
  }
 ],
 "metadata": {
  "kernelspec": {
   "display_name": "Python 3",
   "language": "python",
   "name": "python3"
  },
  "language_info": {
   "codemirror_mode": {
    "name": "ipython",
    "version": 3
   },
   "file_extension": ".py",
   "mimetype": "text/x-python",
   "name": "python",
   "nbconvert_exporter": "python",
   "pygments_lexer": "ipython3",
   "version": "3.5.6"
  }
 },
 "nbformat": 4,
 "nbformat_minor": 2
}
