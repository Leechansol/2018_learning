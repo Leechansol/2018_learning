{
 "cells": [
  {
   "cell_type": "markdown",
   "metadata": {},
   "source": [
    "### Backpropagation\n",
    "* 9단 까지 갔을 떄 정확도 엄청 떨어짐\n",
    " * vanishing gradient\n",
    " * chain rule -> 수가 굉장히 작아질 수 있음\n",
    "* ReLU\n",
    " * Rectified Linear Unit\n",
    " * 0보다 작으면 0\n",
    " * 크면 그대로\n",
    " * max(0,x)\n",
    "* 마지막 출력은 0 에서 1 사이\n",
    " * -> sigmoid\n",
    "* Leaky ReLU\n",
    " * 0보다 작으면 *0.1\n",
    " * max(0.1x, x)\n",
    "* tanh\n",
    " * -1 ~ 1\n",
    " * tanh(x)\n",
    "* RBM\n",
    " *\n",
    "* Xivier initialization\n",
    " * 입력, 출력 개수에 맞게 초기화\n",
    " * w = np.random.randn(fan_in, fan_out)/np.sqrt(fan_in)\n",
    " * w = np.random.randn(fan_in, fan_out)/np.sqrt(fan_in/2)"
   ]
  },
  {
   "cell_type": "markdown",
   "metadata": {},
   "source": [
    "### Overfitting\n",
    "* 응용력x\n",
    "* more training\n",
    "* Dropout\n",
    " * 축출\n",
    " * _L1 = tf.nn.relu(tf.add(tf.matmul(X, w1), b1))\n",
    " * L1.tf.dropout(_L1, dropout_rate)\n",
    " * 학습할때만 dropout_rate = 0.7 ..."
   ]
  },
  {
   "cell_type": "markdown",
   "metadata": {},
   "source": []
  }
 ],
 "metadata": {
  "kernelspec": {
   "display_name": "Python 3",
   "language": "python",
   "name": "python3"
  },
  "language_info": {
   "codemirror_mode": {
    "name": "ipython",
    "version": 3
   },
   "file_extension": ".py",
   "mimetype": "text/x-python",
   "name": "python",
   "nbconvert_exporter": "python",
   "pygments_lexer": "ipython3",
   "version": "3.5.6"
  }
 },
 "nbformat": 4,
 "nbformat_minor": 2
}
