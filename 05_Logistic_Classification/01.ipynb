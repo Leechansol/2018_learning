{
 "cells": [
  {
   "cell_type": "markdown",
   "metadata": {},
   "source": [
    "## Regression (HCG)\n",
    "* Hypothesis, Cost, Gradient decent\n",
    " * 가설 이용해 코스트 최소화 하려고 경사타고 내려가기 알고리즘 사용\n",
    " * 기울기 보고 한발자국씩 움직임\n",
    " * 최저점이 우리가 찾는 W\n",
    " * 한발자국 = 알파 = learning_rate\n",
    "\n",
    "## Classification\n",
    "* Binary : 두 가지 중 한개 고름\n",
    "* 0, 1 encoding\n",
    " * 1시간 -> 0 (Fail)\n",
    " * 2시간 -> 0\n",
    " * 3시간 -> 1 (Success) ...\n",
    " * 기준값보다 높으면 1, 낮으면 0\n",
    "* sigmoid -> 0 아니면 1에 수렴\n",
    " * z = wx\n",
    " * H(x) = G(x)"
   ]
  },
  {
   "cell_type": "markdown",
   "metadata": {},
   "source": [
    "## Cost\n",
    "* 어느 지점에서 시작하는냐에 따라 최저점 다를 수도 있음\n",
    " * Local minimun (x) -> Global minimum\n",
    " * C(H(x),y) = \n",
    "   * -log(H(x)) : y=1\n",
    "   * -log(1-H(x)) : y=0\n",
    " * C(H(x),y) = -ylog(H(x)) - (1-y)log(1-H(x))"
   ]
  },
  {
   "cell_type": "code",
   "execution_count": null,
   "metadata": {},
   "outputs": [],
   "source": []
  }
 ],
 "metadata": {
  "kernelspec": {
   "display_name": "Python 3",
   "language": "python",
   "name": "python3"
  },
  "language_info": {
   "codemirror_mode": {
    "name": "ipython",
    "version": 3
   },
   "file_extension": ".py",
   "mimetype": "text/x-python",
   "name": "python",
   "nbconvert_exporter": "python",
   "pygments_lexer": "ipython3",
   "version": "3.5.6"
  }
 },
 "nbformat": 4,
 "nbformat_minor": 2
}
